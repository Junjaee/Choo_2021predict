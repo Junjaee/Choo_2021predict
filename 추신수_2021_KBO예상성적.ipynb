{
  "nbformat": 4,
  "nbformat_minor": 5,
  "metadata": {
    "kernelspec": {
      "display_name": "Python 3",
      "language": "python",
      "name": "python3"
    },
    "language_info": {
      "codemirror_mode": {
        "name": "ipython",
        "version": 3
      },
      "file_extension": ".py",
      "mimetype": "text/x-python",
      "name": "python",
      "nbconvert_exporter": "python",
      "pygments_lexer": "ipython3",
      "version": "3.8.3"
    },
    "colab": {
      "name": "추신수_2021_KBO예상성적.ipynb",
      "provenance": [],
      "collapsed_sections": [],
      "include_colab_link": true
    }
  },
  "cells": [
    {
      "cell_type": "markdown",
      "metadata": {
        "id": "view-in-github",
        "colab_type": "text"
      },
      "source": [
        "<a href=\"https://colab.research.google.com/github/Junjaee/Choo_2021predict/blob/main/%EC%B6%94%EC%8B%A0%EC%88%98_2021_KBO%EC%98%88%EC%83%81%EC%84%B1%EC%A0%81.ipynb\" target=\"_parent\"><img src=\"https://colab.research.google.com/assets/colab-badge.svg\" alt=\"Open In Colab\"/></a>"
      ]
    },
    {
      "cell_type": "code",
      "metadata": {
        "id": "R7-VBIHUR9z6"
      },
      "source": [
        "import pandas as pd\n",
        "import numpy as np\n",
        "import matplotlib.pyplot as plt"
      ],
      "id": "R7-VBIHUR9z6",
      "execution_count": 1,
      "outputs": []
    },
    {
      "cell_type": "code",
      "metadata": {
        "scrolled": false,
        "colab": {
          "base_uri": "https://localhost:8080/"
        },
        "id": "normal-secondary",
        "outputId": "de1a9294-0c98-4708-a11c-15c56e12217b"
      },
      "source": [
        "# 우선 예측을 위해서는 KBO를 거쳐간 용병들의 데이터(KBO wRC+와 직전시즌 MLB wRC+)가 필요했는데, 그 중에서도 허수는 제외해야 했기에 아래와 같은 몇가지 기준을 갖고 선수들을 추려봤습니다.\n",
        "\n",
        "# 0. 2010년부터 2020년까지의 선수들로 구성한다\n",
        "\n",
        "# 1. AAA에만 있던 용병은 제외한다(ex. 로하스, 라모스)\n",
        "\n",
        "# 2. KBO 오기 직전 시즌에 50타석 이상의 MLB 성적이 존재한다.\n",
        "#     (ex.로맥 15 애리조나 16타석 wRC+ 127은 제외)\n",
        "\n",
        "# 3. KBO를 거쳐 다시 MLB에 입성한 선수들의 성적도 재반영한다.(ex.테임즈, 러프)\n",
        "\n",
        "# 4. 직전시즌 MLB에서 폭망한 선수는 해당 시즌을 기준으로 2년내에 50타석 이상의 MLB 기록을 반영한다. 그마저도 없으면 제외한다.\n",
        "# (ex. 펠릭스 피에 13시즌 31타석 wRC+ 2  -> 11시즌 wRC+46 반영;  아두치 14시즌 114타석 wRC+28, 13시즌 34타석 -> 제외 )\n",
        "\n",
        "# 5. KBO보다 MLB 성적이 더 좋은 경우 부적응으로 보고 제외한다.\n",
        "#     (가코 11시즌 KBO wRC+78, 09시즌 MLB wRC+105  -> 제외)\n",
        "\n",
        "# 6. KBO에서 100타석 이상 타석에 들어선 기록이 있다.\n",
        "\n",
        "# 7. 나이는 고려하지 않는다.\n",
        "\n",
        "\n",
        "# 위의 기준에 부합하는 선수들을 추린 결과 총 35명이 남았고, 팬그래프 사이트를 통해 해당 선수들의 wRC+를 수집했습니다.\n",
        "\n",
        "\n",
        "# df = pd.read_csv(\"D:\\Coding\\KBO_baseball\\Choo\\Choo_.csv\")\n",
        "df = pd.read_csv(\"Choo_.csv\")\n",
        "print(df.head)"
      ],
      "id": "normal-secondary",
      "execution_count": 79,
      "outputs": [
        {
          "output_type": "stream",
          "text": [
            "<bound method NDFrame.head of     MLB  KBO\n",
            "0    89  139\n",
            "1    82  165\n",
            "2    75  131\n",
            "3    83  163\n",
            "4    91  148\n",
            "5    95  141\n",
            "6   140  149\n",
            "7   100  140\n",
            "8    69  148\n",
            "9    88  146\n",
            "10   92  134\n",
            "11   83  120\n",
            "12   67  127\n",
            "13   85  115\n",
            "14   74  127\n",
            "15   81  114\n",
            "16   46  117\n",
            "17   84  117\n",
            "18   59  124\n",
            "19   48  105\n",
            "20   38   95\n",
            "21   88  139\n",
            "22   72  110\n",
            "23   26   89\n",
            "24   48  102\n",
            "25   69  100\n",
            "26   52   95\n",
            "27   84  109\n",
            "28   59  103\n",
            "29   87  103\n",
            "30   87  138\n",
            "31  108  120\n",
            "32   70  134\n",
            "33   26   52\n",
            "34  125  165>\n"
          ],
          "name": "stdout"
        }
      ]
    },
    {
      "cell_type": "code",
      "metadata": {
        "scrolled": true,
        "id": "designing-jungle"
      },
      "source": [
        "Y = df['KBO'].values\n",
        "Y = Y.astype('int')\n",
        "\n",
        "# KBO 변수 제거\n",
        "X = df.drop(['KBO'], axis = 1)"
      ],
      "id": "designing-jungle",
      "execution_count": 179,
      "outputs": []
    },
    {
      "cell_type": "code",
      "metadata": {
        "colab": {
          "base_uri": "https://localhost:8080/"
        },
        "id": "aQCtgPQdVz--",
        "outputId": "72de9d1e-e884-4c84-b050-e59b0ae59068"
      },
      "source": [
        "from sklearn.linear_model import LinearRegression\n",
        "from sklearn.model_selection import train_test_split\n",
        "\n",
        "model = LinearRegression()\n",
        "\n",
        "predicts = []\n",
        "\n",
        "for i in range(100):\n",
        "    X_train, X_test, Y_train, Y_test = train_test_split(X, Y, test_size = 0.2, random_state = i)\n",
        "\n",
        "    model.fit(X_train, Y_train)\n",
        "    score = model.score(X_test, Y_test)\n",
        "    # if score >= 0:\n",
        "    A = model.predict([[97]])\n",
        "    predicts.append(A)\n",
        "\n",
        "print(np.mean(predicts))"
      ],
      "id": "aQCtgPQdVz--",
      "execution_count": 180,
      "outputs": [
        {
          "output_type": "stream",
          "text": [
            "138.31683255933154\n"
          ],
          "name": "stdout"
        }
      ]
    },
    {
      "cell_type": "code",
      "metadata": {
        "colab": {
          "base_uri": "https://localhost:8080/",
          "height": 513
        },
        "id": "atomic-might",
        "outputId": "99949e99-f136-4c85-cdd0-5b7f9d0d84f8"
      },
      "source": [
        "plt.title('wRC+ Predict Graph')\n",
        "plt.xlabel('MLB')\n",
        "plt.ylabel('KBO')\n",
        "plt.rcParams[\"figure.figsize\"] = (10,8)\n",
        "\n",
        "plt.scatter(X_train, Y_train, color = 'black')\n",
        "plt.axis([0,160,40,180])    #x축, y축 범위 설정\n",
        "plt.grid(True)\n",
        "\n",
        "plt.show()"
      ],
      "id": "atomic-might",
      "execution_count": 136,
      "outputs": [
        {
          "output_type": "display_data",
          "data": {
            "image/png": "[encoded data removed]",
            "text/plain": [
              "<Figure size 720x576 with 1 Axes>"
            ]
          },
          "metadata": {
            "tags": [],
            "needs_background": "light"
          }
        }
      ]
    },
    {
      "cell_type": "code",
      "metadata": {
        "scrolled": false,
        "colab": {
          "base_uri": "https://localhost:8080/",
          "height": 513
        },
        "id": "proved-shelter",
        "outputId": "83f545e8-0be6-4ebf-ec7c-03a063a8413a"
      },
      "source": [
        "plt.title('wRC+ Predict Graph')\n",
        "plt.xlabel('MLB')\n",
        "plt.ylabel('KBO')\n",
        "plt.rcParams[\"figure.figsize\"] = (10,8)\n",
        "\n",
        "plt.scatter(X_train, Y_train, color = 'black')\n",
        "plt.axis([0,160,40,180])    #x축, y축 범위 설정\n",
        "plt.grid(True)\n",
        "\n",
        "plt.plot(X_train, model.predict(X_train), color = 'r')\n",
        "plt.show()"
      ],
      "id": "proved-shelter",
      "execution_count": 165,
      "outputs": [
        {
          "output_type": "display_data",
          "data": {
            "image/png": "[encoded data removed]",
            "text/plain": [
              "<Figure size 720x576 with 1 Axes>"
            ]
          },
          "metadata": {
            "tags": [],
            "needs_background": "light"
          }
        }
      ]
    },
    {
      "cell_type": "code",
      "metadata": {
        "scrolled": false,
        "colab": {
          "base_uri": "https://localhost:8080/",
          "height": 513
        },
        "id": "intelligent-prayer",
        "outputId": "3a28d31f-e36a-421b-f9d3-b9b87ce039b7"
      },
      "source": [
        "plt.title('wRC+ Predict Graph')\n",
        "plt.xlabel('MLB')\n",
        "plt.ylabel('KBO')\n",
        "\n",
        "plt.scatter(X_train, Y_train, color = 'yellow')\n",
        "plt.axis([0,160,40,180])\n",
        "plt.grid(True)\n",
        "\n",
        "plt.plot(X_train, model.predict(X_train), color = 'r')\n",
        "plt.scatter([[97]], [138.31], color = 'black')\n",
        "plt.show()"
      ],
      "id": "intelligent-prayer",
      "execution_count": 178,
      "outputs": [
        {
          "output_type": "display_data",
          "data": {
            "image/png": "[encoded data removed]",
            "text/plain": [
              "<Figure size 720x576 with 1 Axes>"
            ]
          },
          "metadata": {
            "tags": [],
            "needs_background": "light"
          }
        }
      ]
    }
  ]
}